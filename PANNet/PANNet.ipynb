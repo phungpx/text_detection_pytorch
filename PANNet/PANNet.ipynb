{
 "cells": [
  {
   "cell_type": "markdown",
   "id": "7f57522e-184f-42cf-b2a5-4dd3df491679",
   "metadata": {
    "tags": []
   },
   "source": [
    "## 1. Dataloader"
   ]
  },
  {
   "cell_type": "code",
   "execution_count": 1,
   "id": "1ab9ec74-08eb-4638-b11c-7a77d2efc854",
   "metadata": {},
   "outputs": [],
   "source": [
    "import cv2\n",
    "import json\n",
    "import numpy as np\n",
    "import imgaug.augmenters as iaa\n",
    "\n",
    "from pathlib import Path\n",
    "from natsort import natsorted\n",
    "\n",
    "from torch.utils.data import DataLoader\n",
    "\n",
    "from dataloader.augmenter import Augmenter\n",
    "from dataloader.PAN_dataset import PANDataset"
   ]
  },
  {
   "cell_type": "markdown",
   "id": "7688fb00-4063-4be5-8716-cfbc711878bb",
   "metadata": {
    "tags": []
   },
   "source": [
    "### 1.1 Test Augmenter"
   ]
  },
  {
   "cell_type": "code",
   "execution_count": 3,
   "id": "dc735ead-6d8e-442d-93f8-d0064f24e817",
   "metadata": {},
   "outputs": [
    {
     "name": "stdout",
     "output_type": "stream",
     "text": [
      "Number of Data: 229\n"
     ]
    }
   ],
   "source": [
    "image_paths = natsorted(Path('../dataset/focused_scene_text_2013/train/').glob('*.jpg'), key=lambda x: x.stem)\n",
    "label_paths = natsorted(Path('../dataset/focused_scene_text_2013/train/').glob('*.json'), key=lambda x: x.stem)\n",
    "data_pairs = [(image_path, label_path) for image_path, label_path in zip(image_paths, label_paths) if image_path.stem == label_path.stem]\n",
    "print(f'Number of Data: {len(data_pairs)}')"
   ]
  },
  {
   "cell_type": "code",
   "execution_count": 4,
   "id": "35db3882-fba7-4a8a-89a0-deb327cb109b",
   "metadata": {},
   "outputs": [
    {
     "data": {
      "text/plain": [
       "True"
      ]
     },
     "execution_count": 4,
     "metadata": {},
     "output_type": "execute_result"
    }
   ],
   "source": [
    "def to_valid_poly(polygon, image_height, image_width):\n",
    "    polygon = np.array(polygon)\n",
    "    polygon[:, 0] = np.clip(polygon[:, 0], a_min=0, a_max=image_width - 1)  # x coord not max w-1, and not min 0\n",
    "    polygon[:, 1] = np.clip(polygon[:, 1], a_min=0, a_max=image_height - 1)  # y coord not max h-1, and not min 0\n",
    "    return polygon.tolist()\n",
    "\n",
    "def to_4points(points):\n",
    "    x1, y1 = points[0][0], points[0][1]\n",
    "    x2, y2 = points[1][0], points[1][1]\n",
    "    return [(x1, y1), (x2, y1), (x2, y2), (x1, y2)]\n",
    "\n",
    "augmenter = Augmenter()\n",
    "\n",
    "image_path, label_path = data_pairs[0]\n",
    "image_path = str(image_path)\n",
    "label_path = str(label_path)\n",
    "\n",
    "image = cv2.imread(image_path)\n",
    "thickness = max(image.shape) // 400\n",
    "\n",
    "with open(file=label_path, mode='r', encoding='utf-8') as f:\n",
    "    label = json.load(f)\n",
    "\n",
    "image, label = augmenter.apply(image=image, label=label, augmenter=iaa.Rot90(k=3, keep_size=False))\n",
    "image = np.ascontiguousarray(image)\n",
    "\n",
    "for shape in label['shapes']:\n",
    "    if shape['shape_type'] == 'rectangle':\n",
    "        points = to_4points(shape['points'])\n",
    "        points = to_valid_poly(points, image_height=image.shape[0], image_width=image.shape[1])\n",
    "        cv2.rectangle(\n",
    "            img=image,\n",
    "            pt1=(int(points[0][0]), int(points[0][1])),\n",
    "            pt2=(int(points[1][0]), int(points[1][1])),\n",
    "            color=(0, 255, 0),\n",
    "            thickness=thickness\n",
    "        )\n",
    "    elif shape['shape_type'] == 'polygon':\n",
    "        points = to_valid_poly(shape['points'], image_height=image.shape[0], image_width=image.shape[1])\n",
    "        cv2.polylines(img=image, pts=[np.int32(points)], isClosed=True, color=(0, 255, 0), thickness=thickness)\n",
    "    else:\n",
    "        raise ValueError(f\"visual function for {shape['shape_type']} is not implemented.\")\n",
    "\n",
    "cv2.imwrite('image.png', image)"
   ]
  },
  {
   "cell_type": "markdown",
   "id": "8819376d-2d60-4726-8e03-c4e9e678b782",
   "metadata": {
    "tags": []
   },
   "source": [
    "### 1.2 Test Dataset"
   ]
  },
  {
   "cell_type": "code",
   "execution_count": 5,
   "id": "15a141b7-9f1b-4ead-8d71-0c6fcd27691e",
   "metadata": {},
   "outputs": [
    {
     "name": "stdout",
     "output_type": "stream",
     "text": [
      "train - 50\n"
     ]
    }
   ],
   "source": [
    "import torch\n",
    "\n",
    "mean = [0, 0, 0]\n",
    "std = [1, 1, 1]\n",
    "\n",
    "dataset = PANDataset(\n",
    "    dirnames=['../dataset/totaltext/train/'],\n",
    "    imsize=640,\n",
    "    mean=mean, std=std,\n",
    "    shrink_ratio=0.5,\n",
    "    image_extents=['.jpg'],\n",
    "    label_extent='.json',\n",
    "    transforms=[\n",
    "        iaa.Rot90(k=[0, 1, 2, 3], keep_size=False),\n",
    "        iaa.Add(value=(-50, 50), per_channel=True),\n",
    "        iaa.GaussianBlur(sigma=(0, 1)),\n",
    "        iaa.MotionBlur(),\n",
    "        iaa.Affine(rotate=(0, 10), shear=(-5, 5), fit_output=True),\n",
    "        iaa.PerspectiveTransform(scale=(0, 0.1)),\n",
    "        # iaa.ChangeColorTemperature(),\n",
    "        # iaa.Clouds(),\n",
    "    ],\n",
    "    require_transforms=None,\n",
    ")"
   ]
  },
  {
   "cell_type": "code",
   "execution_count": 6,
   "id": "7e9bc584-60cd-49b0-9092-238957584419",
   "metadata": {},
   "outputs": [],
   "source": [
    "from typing import List, Tuple\n",
    "\n",
    "def tensor2image(\n",
    "    sample: torch.Tensor,\n",
    "    mean: List[float] = [0, 0, 0],\n",
    "    std: List[float] = [1, 1, 1],\n",
    "    image_size: Tuple[int, int] = None,\n",
    "):\n",
    "    mean = torch.tensor(mean, dtype=torch.float, device=sample.device).view(3, 1, 1)\n",
    "    std = torch.tensor(std, dtype=torch.float, device=sample.device).view(3, 1, 1)\n",
    "\n",
    "    sample = (sample * std + mean) * 255  # denormalize\n",
    "    sample = sample.permute(1, 2, 0).contiguous()  # C x H x W -> H x W x C\n",
    "    image = sample.to(torch.uint8).numpy()  # tensor, float32 -> numpy, uint8\n",
    "    image = cv2.cvtColor(image, cv2.COLOR_BGR2RGB)  # BGR -> RGB\n",
    "    image = cv2.resize(image, dsize=image_size)\n",
    "\n",
    "    return image\n",
    "\n",
    "\n",
    "def segmap2segmask(masks: torch.Tensor, image_size: Tuple[int, int] = None):\n",
    "    text_map, kernel_map = masks[0], masks[1]\n",
    "    text_mask = torch.stack([text_map] * 3, dim=2)\n",
    "    kernel_mask = torch.stack([kernel_map] * 3, dim=2)\n",
    "\n",
    "    text_id = torch.unique(text_map)\n",
    "\n",
    "    for i in text_id:\n",
    "        if i == 0:  # background\n",
    "            continue\n",
    "        color = (\n",
    "            np.random.randint(0, 255),\n",
    "            np.random.randint(0, 255),\n",
    "            np.random.randint(0, 255)\n",
    "        )\n",
    "\n",
    "        text_mask[text_map == i] = torch.tensor(color, dtype=text_map.dtype, device=text_map.device)\n",
    "        kernel_mask[kernel_map == i] = torch.tensor(color, dtype=kernel_map.dtype, device=kernel_map.device)\n",
    "\n",
    "    text_mask = text_mask.to(torch.uint8).numpy()\n",
    "    kernel_mask = kernel_mask.to(torch.uint8).numpy()\n",
    "\n",
    "    text_mask = cv2.resize(text_mask, dsize=image_size)\n",
    "    kernel_mask = cv2.resize(kernel_mask, dsize=image_size)\n",
    "    \n",
    "    return text_mask, kernel_mask"
   ]
  },
  {
   "cell_type": "code",
   "execution_count": 7,
   "id": "27eeda41-f518-4892-bfb8-f09269c9edc2",
   "metadata": {},
   "outputs": [],
   "source": [
    "sample, masks, image_info = dataset[1]\n",
    "image_path, image_size = image_info\n",
    "\n",
    "image = tensor2image(sample=sample, mean=mean, std=std, image_size=image_size)\n",
    "text_mask, kernel_mask = segmap2segmask(masks=masks, image_size=image_size)\n",
    "\n",
    "text_mask = (0.4 * text_mask + 0.6 * image).astype(np.uint8)\n",
    "kernel_mask = (0.4 * kernel_mask + 0.6 * image).astype(np.uint8)"
   ]
  },
  {
   "cell_type": "code",
   "execution_count": 8,
   "id": "923c20f1-bb83-4807-aa56-7739d224a85f",
   "metadata": {},
   "outputs": [
    {
     "data": {
      "text/plain": [
       "True"
      ]
     },
     "execution_count": 8,
     "metadata": {},
     "output_type": "execute_result"
    }
   ],
   "source": [
    "cv2.imwrite(f'{Path(image_path).stem}_text.png', text_mask)\n",
    "cv2.imwrite(f'{Path(image_path).stem}_kernel.png', kernel_mask)"
   ]
  },
  {
   "cell_type": "markdown",
   "id": "78e717b1-ba13-40cc-b9b3-367142e797e1",
   "metadata": {},
   "source": [
    "### 1.3 Test Dataloader"
   ]
  },
  {
   "cell_type": "code",
   "execution_count": 9,
   "id": "ed03e02c-bbc5-4061-b854-4a01d00fe190",
   "metadata": {},
   "outputs": [],
   "source": [
    "data_loader = DataLoader(dataset=dataset, batch_size=2, shuffle=False)"
   ]
  },
  {
   "cell_type": "code",
   "execution_count": 10,
   "id": "b9b596f6-1d71-4703-820a-e4193591eaa9",
   "metadata": {},
   "outputs": [],
   "source": [
    "data_iter = iter(data_loader)"
   ]
  },
  {
   "cell_type": "code",
   "execution_count": 11,
   "id": "8e5868bb-ce79-4a63-87e1-eb3907c23642",
   "metadata": {},
   "outputs": [],
   "source": [
    "samples, masks, image_infos = data_iter.next()\n",
    "image_paths, image_sizes = image_infos"
   ]
  },
  {
   "cell_type": "code",
   "execution_count": 12,
   "id": "d9cda3d2-49dd-40eb-97bd-2bac1061cecd",
   "metadata": {},
   "outputs": [],
   "source": [
    "for sample, mask, image_path, image_size in zip(samples, masks, image_paths, image_sizes):\n",
    "    image = tensor2image(sample=sample, mean=mean, std=std, image_size=tuple(image_size.numpy()))\n",
    "    text_mask, kernel_mask = segmap2segmask(masks=mask, image_size=tuple(image_size.numpy()))\n",
    "\n",
    "    text_mask = (0.4 * text_mask + 0.6 * image).astype(np.uint8)\n",
    "    kernel_mask = (0.4 * kernel_mask + 0.6 * image).astype(np.uint8)\n",
    "\n",
    "    cv2.imwrite(f'{Path(image_path).stem}_text.png', text_mask)\n",
    "    cv2.imwrite(f'{Path(image_path).stem}_kernel.png', kernel_mask)"
   ]
  },
  {
   "cell_type": "markdown",
   "id": "3c87c392-6177-45bc-93a9-4d1436146926",
   "metadata": {},
   "source": [
    "## 2. PANNet"
   ]
  },
  {
   "cell_type": "code",
   "execution_count": 13,
   "id": "18d671d6-9dc2-47ee-b1c2-52ddebe94fd6",
   "metadata": {},
   "outputs": [],
   "source": [
    "import torch\n",
    "from model.PANNet.PAN_net import PANNet"
   ]
  },
  {
   "cell_type": "code",
   "execution_count": 14,
   "id": "73888a89-5702-4e64-8eed-46e304b90100",
   "metadata": {},
   "outputs": [],
   "source": [
    "model = PANNet(backbone_name='resnet18', backbone_pretrained=False, num_FPEMs=2)"
   ]
  },
  {
   "cell_type": "code",
   "execution_count": 15,
   "id": "b476076d-d923-4828-8f9d-4892fca4052f",
   "metadata": {},
   "outputs": [
    {
     "name": "stdout",
     "output_type": "stream",
     "text": [
      "The number of parameters: 11520582\n"
     ]
    }
   ],
   "source": [
    "params = sum([param.numel() for param in model.parameters() if param.requires_grad])\n",
    "print(f'The number of parameters: {params}')"
   ]
  },
  {
   "cell_type": "code",
   "execution_count": 13,
   "id": "eba8df95-d7a7-4d9a-b177-41997df850fc",
   "metadata": {},
   "outputs": [
    {
     "name": "stderr",
     "output_type": "stream",
     "text": [
      "/home/phungpx/anaconda3/envs/phungpx/lib/python3.8/site-packages/torch/nn/functional.py:3060: UserWarning: Default upsampling behavior when mode=bilinear is changed to align_corners=False since 0.4.0. Please specify align_corners=True if the old behavior is desired. See the documentation of nn.Upsample for details.\n",
      "  warnings.warn(\"Default upsampling behavior when mode={} is changed \"\n"
     ]
    },
    {
     "name": "stdout",
     "output_type": "stream",
     "text": [
      "torch.Size([2, 6, 640, 640])\n"
     ]
    }
   ],
   "source": [
    "preds = model(samples)\n",
    "print(preds.shape)"
   ]
  },
  {
   "cell_type": "markdown",
   "id": "7686ad33-420b-4fcf-8b5f-90352f583377",
   "metadata": {},
   "source": [
    "## 3. PAN Loss"
   ]
  },
  {
   "cell_type": "code",
   "execution_count": 14,
   "id": "4a5e5663-5ba5-476b-ae75-353b52d89077",
   "metadata": {},
   "outputs": [],
   "source": [
    "import torch\n",
    "from loss.PAN_loss import PANLoss"
   ]
  },
  {
   "cell_type": "code",
   "execution_count": 15,
   "id": "e914d0ef-ceff-49b7-9613-72861b6cf7a6",
   "metadata": {},
   "outputs": [],
   "source": [
    "loss = PANLoss()"
   ]
  },
  {
   "cell_type": "code",
   "execution_count": 16,
   "id": "eaadfeea-c222-4ac7-a8db-ffd90a403612",
   "metadata": {},
   "outputs": [
    {
     "data": {
      "text/plain": [
       "(tensor(1.7438, grad_fn=<AddBackward0>),\n",
       " tensor(0.1975, grad_fn=<MeanBackward0>),\n",
       " tensor(0.7776, grad_fn=<MeanBackward0>),\n",
       " tensor(1., grad_fn=<MeanBackward0>),\n",
       " tensor(1., grad_fn=<MeanBackward0>))"
      ]
     },
     "execution_count": 16,
     "metadata": {},
     "output_type": "execute_result"
    }
   ],
   "source": [
    "loss(preds=preds, targets=masks)"
   ]
  },
  {
   "cell_type": "code",
   "execution_count": null,
   "id": "ad45a207-75a4-4893-a16a-c54d56cf343a",
   "metadata": {},
   "outputs": [],
   "source": []
  }
 ],
 "metadata": {
  "kernelspec": {
   "display_name": "Python 3 (ipykernel)",
   "language": "python",
   "name": "python3"
  },
  "language_info": {
   "codemirror_mode": {
    "name": "ipython",
    "version": 3
   },
   "file_extension": ".py",
   "mimetype": "text/x-python",
   "name": "python",
   "nbconvert_exporter": "python",
   "pygments_lexer": "ipython3",
   "version": "3.8.12"
  }
 },
 "nbformat": 4,
 "nbformat_minor": 5
}
