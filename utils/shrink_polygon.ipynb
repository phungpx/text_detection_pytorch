{
 "cells": [
  {
   "cell_type": "code",
   "execution_count": 21,
   "id": "e2ce8d73-1a3d-47db-a99e-92f1a8acd19c",
   "metadata": {},
   "outputs": [],
   "source": [
    "import cv2\n",
    "import pyclipper\n",
    "import numpy as np\n",
    "from shapely.geometry import Polygon"
   ]
  },
  {
   "cell_type": "code",
   "execution_count": 38,
   "id": "62d5b669-7779-4db4-a55b-34c4a45d20df",
   "metadata": {},
   "outputs": [],
   "source": [
    "canvas = np.zeros(shape=(500, 500, 3), dtype=np.uint8)\n",
    "shrinker = pyclipper.PyclipperOffset()"
   ]
  },
  {
   "cell_type": "code",
   "execution_count": 39,
   "id": "438f2b0c-be12-49a6-bd0b-49a8de40982d",
   "metadata": {},
   "outputs": [
    {
     "name": "stdout",
     "output_type": "stream",
     "text": [
      "<class 'list'>\n"
     ]
    }
   ],
   "source": [
    "polygon = (\n",
    "    (348, 257), (364, 148), (362, 148), (326, 241),\n",
    "    (295, 219), (258, 88), (440, 129), (370, 196), (372, 275)\n",
    ")\n",
    "\n",
    "offset = -7\n",
    "\n",
    "shrinker.AddPath(polygon, pyclipper.JT_ROUND, pyclipper.ET_CLOSEDPOLYGON)\n",
    "shr_polygons = shrinker.Execute(offset)\n",
    "print(type(shr_polygons[0]))"
   ]
  },
  {
   "cell_type": "code",
   "execution_count": 40,
   "id": "a47e0f4e-2ea2-47a1-93d9-cec33956e0d8",
   "metadata": {},
   "outputs": [
    {
     "data": {
      "text/plain": [
       "True"
      ]
     },
     "execution_count": 40,
     "metadata": {},
     "output_type": "execute_result"
    }
   ],
   "source": [
    "cv2.polylines(img=canvas, pts=[np.int32(polygon)], isClosed=True, color=(0, 0, 255), thickness=1)\n",
    "\n",
    "for shr_polygon in shr_polygons:\n",
    "    cv2.polylines(img=canvas, pts=[np.int32(shr_polygon)], isClosed=True, color=(0, 255, 0), thickness=1)\n",
    "\n",
    "cv2.imwrite('canvas.png', canvas)"
   ]
  },
  {
   "cell_type": "code",
   "execution_count": 1,
   "id": "9dbd71cf-553d-4c6a-b960-cfe15e7c727d",
   "metadata": {},
   "outputs": [],
   "source": [
    "import cv2\n",
    "import pyclipper\n",
    "import numpy as np\n",
    "from shapely.geometry import Polygon\n",
    "\n",
    "\n",
    "def shrink_polygon(points, r: float = 0.4):\n",
    "    shrinker = pyclipper.PyclipperOffset()    \n",
    "\n",
    "    poly = Polygon(points)\n",
    "    if not poly.is_valid:\n",
    "        raise ValueError('must be valid polygon.')\n",
    "    # d = poly.area * (1 - r ** 2) / poly.length\n",
    "    d = poly.area * (1 - r) / poly.length\n",
    "\n",
    "    points = [tuple(point) for point in points]\n",
    "    shrinker.AddPath(points, pyclipper.JT_ROUND, pyclipper.ET_CLOSEDPOLYGON)\n",
    "    polys = shrinker.Execute(-d)\n",
    "    \n",
    "    return polys\n",
    "\n",
    "\n",
    "def unshrink_polygon(points, r: float = 0.4):\n",
    "    shrinker = pyclipper.PyclipperOffset()\n",
    "\n",
    "    poly = Polygon(points)\n",
    "    if not poly.is_valid:\n",
    "        raise ValueError('must be valid polygon.')\n",
    "\n",
    "    d = poly.area * (1 + r) / poly.length\n",
    "\n",
    "    points = [tuple(point) for point in points]\n",
    "    shrinker.AddPath(points, pyclipper.JT_ROUND, pyclipper.ET_CLOSEDPOLYGON)\n",
    "    polys = shrinker.Execute(d)\n",
    "\n",
    "    return polys"
   ]
  },
  {
   "cell_type": "code",
   "execution_count": 2,
   "id": "8731b9ef-d65e-4b32-99d4-2cb7f201f09c",
   "metadata": {},
   "outputs": [],
   "source": [
    "polygon = (\n",
    "    (348, 257), (364, 148), (362, 148), (326, 241),\n",
    "    (295, 219), (258, 88), (440, 129), (370, 196), (372, 275)\n",
    ")\n",
    "\n",
    "polygon = ("
   ]
  },
  {
   "cell_type": "code",
   "execution_count": 3,
   "id": "f7bcfc81-ec85-43cb-a87f-d28e1093a995",
   "metadata": {},
   "outputs": [
    {
     "data": {
      "text/plain": [
       "True"
      ]
     },
     "execution_count": 3,
     "metadata": {},
     "output_type": "execute_result"
    }
   ],
   "source": [
    "shrink_polys = shrink_polygon(polygon, r=0.4)\n",
    "\n",
    "canvas = np.zeros(shape=(500, 500, 3), dtype=np.uint8)\n",
    "cv2.polylines(img=canvas, pts=[np.int32(polygon)], isClosed=True, color=(0, 0, 255), thickness=1)\n",
    "cv2.polylines(img=canvas, pts=np.int32(shrink_polys), isClosed=True, color=(0, 255, 0), thickness=1)\n",
    "\n",
    "cv2.imwrite('shrink_canvas.png', canvas)"
   ]
  },
  {
   "cell_type": "code",
   "execution_count": 14,
   "id": "2dac58ba-85e7-4860-98fd-1eded6fe39a9",
   "metadata": {},
   "outputs": [
    {
     "data": {
      "text/plain": [
       "[[[417, 135],\n",
       "  [371, 180],\n",
       "  [375, 150],\n",
       "  [375, 145],\n",
       "  [372, 141],\n",
       "  [369, 138],\n",
       "  [364, 137],\n",
       "  [362, 137],\n",
       "  [357, 138],\n",
       "  [354, 141],\n",
       "  [352, 144],\n",
       "  [321, 224],\n",
       "  [305, 213],\n",
       "  [274, 103]]]"
      ]
     },
     "execution_count": 14,
     "metadata": {},
     "output_type": "execute_result"
    }
   ],
   "source": [
    "shrink_polys"
   ]
  },
  {
   "cell_type": "code",
   "execution_count": 4,
   "id": "898ca328-aa41-4894-b704-d46492dc81fd",
   "metadata": {},
   "outputs": [
    {
     "data": {
      "text/plain": [
       "True"
      ]
     },
     "execution_count": 4,
     "metadata": {},
     "output_type": "execute_result"
    }
   ],
   "source": [
    "unshrink_polys = []\n",
    "for poly in shrink_polys:\n",
    "    unshrink_polys.extend(unshrink_polygon(poly))\n",
    "\n",
    "canvas = np.zeros(shape=(500, 500, 3), dtype=np.uint8)\n",
    "cv2.polylines(img=canvas, pts=np.int32(shrink_polys), isClosed=True, color=(0, 0, 255), thickness=1)\n",
    "cv2.polylines(img=canvas, pts=np.int32(unshrink_polys), isClosed=True, color=(0, 255, 0), thickness=1)\n",
    "\n",
    "cv2.imwrite('unshrink_canvas.png', canvas)"
   ]
  },
  {
   "cell_type": "code",
   "execution_count": null,
   "id": "ece66976-538b-4a97-98fb-5fadbfd2b080",
   "metadata": {},
   "outputs": [],
   "source": []
  }
 ],
 "metadata": {
  "kernelspec": {
   "display_name": "Python 3 (ipykernel)",
   "language": "python",
   "name": "python3"
  },
  "language_info": {
   "codemirror_mode": {
    "name": "ipython",
    "version": 3
   },
   "file_extension": ".py",
   "mimetype": "text/x-python",
   "name": "python",
   "nbconvert_exporter": "python",
   "pygments_lexer": "ipython3",
   "version": "3.8.12"
  }
 },
 "nbformat": 4,
 "nbformat_minor": 5
}
