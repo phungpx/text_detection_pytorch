{
 "cells": [
  {
   "cell_type": "markdown",
   "id": "7f57522e-184f-42cf-b2a5-4dd3df491679",
   "metadata": {},
   "source": [
    "## 1. Dataloader"
   ]
  },
  {
   "cell_type": "code",
   "execution_count": 3,
   "id": "1ab9ec74-08eb-4638-b11c-7a77d2efc854",
   "metadata": {},
   "outputs": [],
   "source": [
    "import cv2\n",
    "import json\n",
    "import numpy as np\n",
    "import imgaug.augmenters as iaa\n",
    "\n",
    "from pathlib import Path\n",
    "from natsort import natsorted\n",
    "\n",
    "from data.augmenter import Augmenter"
   ]
  },
  {
   "cell_type": "code",
   "execution_count": 4,
   "id": "1b7111c6-067d-45dd-a317-a43a566c2aa4",
   "metadata": {},
   "outputs": [
    {
     "name": "stdout",
     "output_type": "stream",
     "text": [
      "229\n"
     ]
    }
   ],
   "source": [
    "label_paths = natsorted(Path('../dataset/focused_scene_text_2013/train/').glob('*.json'), key=lambda x: x.stem)\n",
    "image_paths = natsorted(Path('../dataset/focused_scene_text_2013/train/').glob('*.jpg'), key=lambda x: x.stem)\n",
    "\n",
    "data_pairs = [(image_path, label_path) for image_path, label_path in zip(label_paths, image_paths) if image_path.stem == label_path.stem]\n",
    "\n",
    "print(len(data_pairs))"
   ]
  },
  {
   "cell_type": "code",
   "execution_count": 8,
   "id": "35db3882-fba7-4a8a-89a0-deb327cb109b",
   "metadata": {},
   "outputs": [
    {
     "name": "stdout",
     "output_type": "stream",
     "text": [
      "[[7.584381103515625, 170.6666717529297], [344.785888671875, 170.6666717529297], [344.785888671875, 241.3333282470703], [7.584381103515625, 241.3333282470703]]\n",
      "[[387.4359130859375, 170.6666717529297], [464.739013671875, 170.6666717529297], [464.739013671875, 225.3333282470703], [387.4359130859375, 225.3333282470703]]\n",
      "[[0.0, 266.6666564941406], [280.8109130859375, 266.6666564941406], [280.8109130859375, 324.0], [0.0, 324.0]]\n",
      "[[322.128173828125, 265.33331298828125], [446.0797119140625, 265.33331298828125], [446.0797119140625, 318.6666564941406], [322.128173828125, 318.6666564941406]]\n",
      "[[0.0, 361.3333435058594], [306.1343994140625, 361.3333435058594], [306.1343994140625, 416.0], [0.0, 416.0]]\n"
     ]
    },
    {
     "data": {
      "text/plain": [
       "True"
      ]
     },
     "execution_count": 8,
     "metadata": {},
     "output_type": "execute_result"
    }
   ],
   "source": [
    "augmenter = Augmenter()\n",
    "\n",
    "image_path = str(image_paths[0])\n",
    "label_path = str(label_paths[0])\n",
    "\n",
    "image = cv2.imread(image_path)\n",
    "thickness = max(image.shape) // 400\n",
    "\n",
    "with open(file=label_path, mode='r', encoding='utf-8') as f:\n",
    "    label = json.load(f)\n",
    "\n",
    "image, label = resize(image, label)\n",
    "\n",
    "for shape in label['shapes']:\n",
    "    if shape['shape_type'] == 'rectangle':\n",
    "        points = to_4points(shape['points'])\n",
    "        points = to_valid_poly(points, image_height=image.shape[0], image_width=image.shape[1])\n",
    "        cv2.rectangle(\n",
    "            img=image,\n",
    "            pt1=(int(points[0][0]), int(points[0][1])),\n",
    "            pt2=(int(points[1][0]), int(points[1][1])),\n",
    "            color=(0, 255, 0),\n",
    "            thickness=thickness\n",
    "        )\n",
    "    elif shape['shape_type'] == 'polygon':\n",
    "        points = to_valid_poly(shape['points'], image_height=image.shape[0], image_width=image.shape[1])\n",
    "        cv2.polylines(img=image, pts=[np.int32(points)], isClosed=True, color=(0, 255, 0), thickness=thickness)\n",
    "        print(points)\n",
    "    else:\n",
    "        raise ValueError(f\"visual function for {shape['shape_type']} is not implemented.\")\n",
    "\n",
    "cv2.imwrite('image.png', image)"
   ]
  },
  {
   "cell_type": "code",
   "execution_count": 5,
   "id": "15a141b7-9f1b-4ead-8d71-0c6fcd27691e",
   "metadata": {},
   "outputs": [],
   "source": [
    "def resize(image, label, imsize=640):\n",
    "    f = imsize / min(image.shape[:2])\n",
    "    image, label = augmenter.apply(\n",
    "        image=image, label=label,\n",
    "        augmenter=iaa.Resize(size=f)\n",
    "    )\n",
    "    image, label = augmenter.apply(\n",
    "        image=image, label=label,\n",
    "        augmenter=iaa.CropToFixedSize(width=imsize, height=imsize, position='uniform')\n",
    "    )\n",
    "    return image, label\n",
    "\n",
    "def to_valid_poly(polygon, image_height, image_width):\n",
    "    polygon = np.array(polygon)\n",
    "    polygon[:, 0] = np.clip(polygon[:, 0], a_min=0, a_max=image_width - 1)  # x coord not max w-1, and not min 0\n",
    "    polygon[:, 1] = np.clip(polygon[:, 1], a_min=0, a_max=image_height - 1)  # y coord not max h-1, and not min 0\n",
    "    return polygon.tolist()\n",
    "\n",
    "def to_4points(points):\n",
    "    x1, y1 = points[0][0], points[0][1]\n",
    "    x2, y2 = points[1][0], points[1][1]\n",
    "    return [(x1, y1), (x2, y1), (x2, y2), (x1, y2)]"
   ]
  },
  {
   "cell_type": "code",
   "execution_count": null,
   "id": "074cabd6-c716-4d53-987f-4b227bee537f",
   "metadata": {},
   "outputs": [],
   "source": []
  }
 ],
 "metadata": {
  "kernelspec": {
   "display_name": "Python 3 (ipykernel)",
   "language": "python",
   "name": "python3"
  },
  "language_info": {
   "codemirror_mode": {
    "name": "ipython",
    "version": 3
   },
   "file_extension": ".py",
   "mimetype": "text/x-python",
   "name": "python",
   "nbconvert_exporter": "python",
   "pygments_lexer": "ipython3",
   "version": "3.8.12"
  }
 },
 "nbformat": 4,
 "nbformat_minor": 5
}
