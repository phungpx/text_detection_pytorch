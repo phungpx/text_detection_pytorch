{
 "cells": [
  {
   "cell_type": "markdown",
   "id": "7f57522e-184f-42cf-b2a5-4dd3df491679",
   "metadata": {
    "jp-MarkdownHeadingCollapsed": true,
    "tags": []
   },
   "source": [
    "## 1. Dataloader"
   ]
  },
  {
   "cell_type": "code",
   "execution_count": 1,
   "id": "1ab9ec74-08eb-4638-b11c-7a77d2efc854",
   "metadata": {},
   "outputs": [],
   "source": [
    "import cv2\n",
    "import json\n",
    "import numpy as np\n",
    "import imgaug.augmenters as iaa\n",
    "\n",
    "from pathlib import Path\n",
    "from natsort import natsorted\n",
    "\n",
    "from data.augmenter import Augmenter\n",
    "from data.scene_text_dataset import SceneTextDataset"
   ]
  },
  {
   "cell_type": "code",
   "execution_count": 2,
   "id": "1b7111c6-067d-45dd-a317-a43a566c2aa4",
   "metadata": {},
   "outputs": [
    {
     "name": "stdout",
     "output_type": "stream",
     "text": [
      "229\n"
     ]
    }
   ],
   "source": [
    "label_paths = natsorted(Path('../dataset/focused_scene_text_2013/train/').glob('*.json'), key=lambda x: x.stem)\n",
    "image_paths = natsorted(Path('../dataset/focused_scene_text_2013/train/').glob('*.jpg'), key=lambda x: x.stem)\n",
    "\n",
    "data_pairs = [(image_path, label_path) for image_path, label_path in zip(label_paths, image_paths) if image_path.stem == label_path.stem]\n",
    "\n",
    "print(len(data_pairs))"
   ]
  },
  {
   "cell_type": "markdown",
   "id": "7688fb00-4063-4be5-8716-cfbc711878bb",
   "metadata": {
    "jp-MarkdownHeadingCollapsed": true,
    "tags": []
   },
   "source": [
    "### 1.1 Test Augmenter"
   ]
  },
  {
   "cell_type": "code",
   "execution_count": 4,
   "id": "35db3882-fba7-4a8a-89a0-deb327cb109b",
   "metadata": {},
   "outputs": [
    {
     "data": {
      "text/plain": [
       "True"
      ]
     },
     "execution_count": 4,
     "metadata": {},
     "output_type": "execute_result"
    }
   ],
   "source": [
    "def to_valid_poly(polygon, image_height, image_width):\n",
    "    polygon = np.array(polygon)\n",
    "    polygon[:, 0] = np.clip(polygon[:, 0], a_min=0, a_max=image_width - 1)  # x coord not max w-1, and not min 0\n",
    "    polygon[:, 1] = np.clip(polygon[:, 1], a_min=0, a_max=image_height - 1)  # y coord not max h-1, and not min 0\n",
    "    return polygon.tolist()\n",
    "\n",
    "def to_4points(points):\n",
    "    x1, y1 = points[0][0], points[0][1]\n",
    "    x2, y2 = points[1][0], points[1][1]\n",
    "    return [(x1, y1), (x2, y1), (x2, y2), (x1, y2)]\n",
    "\n",
    "augmenter = Augmenter()\n",
    "\n",
    "image_path = str(image_paths[0])\n",
    "label_path = str(label_paths[0])\n",
    "\n",
    "image = cv2.imread(image_path)\n",
    "thickness = max(image.shape) // 400\n",
    "\n",
    "with open(file=label_path, mode='r', encoding='utf-8') as f:\n",
    "    label = json.load(f)\n",
    "\n",
    "image, label = augmenter.apply(image=image, label=label, augmenter=iaa.Rotate(rotate=(-90, 90), fit_output=True))\n",
    "\n",
    "for shape in label['shapes']:\n",
    "    if shape['shape_type'] == 'rectangle':\n",
    "        points = to_4points(shape['points'])\n",
    "        points = to_valid_poly(points, image_height=image.shape[0], image_width=image.shape[1])\n",
    "        cv2.rectangle(\n",
    "            img=image,\n",
    "            pt1=(int(points[0][0]), int(points[0][1])),\n",
    "            pt2=(int(points[1][0]), int(points[1][1])),\n",
    "            color=(0, 255, 0),\n",
    "            thickness=thickness\n",
    "        )\n",
    "    elif shape['shape_type'] == 'polygon':\n",
    "        points = to_valid_poly(shape['points'], image_height=image.shape[0], image_width=image.shape[1])\n",
    "        cv2.polylines(img=image, pts=[np.int32(points)], isClosed=True, color=(0, 255, 0), thickness=thickness)\n",
    "    else:\n",
    "        raise ValueError(f\"visual function for {shape['shape_type']} is not implemented.\")\n",
    "\n",
    "cv2.imwrite('image.png', image)"
   ]
  },
  {
   "cell_type": "markdown",
   "id": "8819376d-2d60-4726-8e03-c4e9e678b782",
   "metadata": {
    "tags": []
   },
   "source": [
    "### 1.2 Test Dataset"
   ]
  },
  {
   "cell_type": "code",
   "execution_count": 54,
   "id": "15a141b7-9f1b-4ead-8d71-0c6fcd27691e",
   "metadata": {},
   "outputs": [
    {
     "name": "stdout",
     "output_type": "stream",
     "text": [
      "train - 50\n"
     ]
    }
   ],
   "source": [
    "import torch\n",
    "\n",
    "mean = [0, 0, 0]\n",
    "std = [1, 1, 1]\n",
    "\n",
    "dataset = SceneTextDataset(\n",
    "    dirnames=['../dataset/totaltext/train/'],\n",
    "    imsize=640,\n",
    "    mean=mean, std=std,\n",
    "    shrink_ratio=0.5,\n",
    "    image_extents=['.jpg'],\n",
    "    label_extent='.json',\n",
    "    transforms=None,\n",
    "    require_transforms=None,\n",
    ")"
   ]
  },
  {
   "cell_type": "code",
   "execution_count": 55,
   "id": "074cabd6-c716-4d53-987f-4b227bee537f",
   "metadata": {},
   "outputs": [],
   "source": [
    "image, mask, image_info = dataset[1]"
   ]
  },
  {
   "cell_type": "code",
   "execution_count": 56,
   "id": "7e9bc584-60cd-49b0-9092-238957584419",
   "metadata": {},
   "outputs": [],
   "source": [
    "device = 'cuda' if torch.cuda.is_available() else 'cpu'\n",
    "\n",
    "mean = torch.tensor(mean, dtype=torch.float, device=device).view(3, 1, 1)\n",
    "std = torch.tensor(std, dtype=torch.float, device=device).view(3, 1, 1)\n",
    "\n",
    "image = (image * std + mean) * 255\n",
    "image = image.permute(1, 2, 0).contiguous()\n",
    "image = image.to(torch.uint8).numpy()\n",
    "image = cv2.cvtColor(image, cv2.COLOR_BGR2RGB)"
   ]
  },
  {
   "cell_type": "code",
   "execution_count": 57,
   "id": "4dbc708a-6c1d-4192-b4c2-d4732471b90b",
   "metadata": {},
   "outputs": [
    {
     "name": "stdout",
     "output_type": "stream",
     "text": [
      "[0.0, 1.0, 2.0, 3.0, 4.0, 5.0, 6.0, 7.0, 8.0]\n"
     ]
    }
   ],
   "source": [
    "text_map, kernel_map = mask[0], mask[1]\n",
    "\n",
    "text_mask = torch.stack([text_map] * 3, dim=2)\n",
    "kernel_mask = torch.stack([kernel_map] * 3, dim=2)\n",
    "\n",
    "text_id = torch.unique(text_map)\n",
    "\n",
    "print(text_id.numpy().tolist())"
   ]
  },
  {
   "cell_type": "code",
   "execution_count": 58,
   "id": "27eeda41-f518-4892-bfb8-f09269c9edc2",
   "metadata": {},
   "outputs": [],
   "source": [
    "for i in text_id:\n",
    "    if i == 0: continue\n",
    "    color = (\n",
    "        np.random.randint(0, 255),\n",
    "        np.random.randint(0, 255),\n",
    "        np.random.randint(0, 255)\n",
    "    )\n",
    "\n",
    "    text_mask[text_map == i] = torch.tensor(color, dtype=text_map.dtype, device=text_map.device)\n",
    "    kernel_mask[kernel_map == i] = torch.tensor(color, dtype=kernel_map.dtype, device=kernel_map.device)\n",
    "\n",
    "text_mask = text_mask.to(torch.uint8).numpy()\n",
    "kernel_mask = kernel_mask.to(torch.uint8).numpy()\n",
    "\n",
    "text_mask = (0.4 * text_mask + 0.6 * image).astype(np.uint8)\n",
    "kernel_mask = (0.4 * kernel_mask + 0.6 * image).astype(np.uint8)"
   ]
  },
  {
   "cell_type": "code",
   "execution_count": 60,
   "id": "923c20f1-bb83-4807-aa56-7739d224a85f",
   "metadata": {},
   "outputs": [
    {
     "data": {
      "text/plain": [
       "True"
      ]
     },
     "execution_count": 60,
     "metadata": {},
     "output_type": "execute_result"
    }
   ],
   "source": [
    "cv2.imwrite('text.png', text_mask)\n",
    "cv2.imwrite('kernel.png', kernel_mask)"
   ]
  },
  {
   "cell_type": "markdown",
   "id": "3c87c392-6177-45bc-93a9-4d1436146926",
   "metadata": {},
   "source": [
    "## 2. PANNet"
   ]
  },
  {
   "cell_type": "code",
   "execution_count": 1,
   "id": "18d671d6-9dc2-47ee-b1c2-52ddebe94fd6",
   "metadata": {},
   "outputs": [],
   "source": [
    "import torch\n",
    "from model.pan_net import PANNet"
   ]
  },
  {
   "cell_type": "code",
   "execution_count": 2,
   "id": "73888a89-5702-4e64-8eed-46e304b90100",
   "metadata": {},
   "outputs": [],
   "source": [
    "model = PANNet(backbone_name='resnet18', backbone_pretrained=False, num_FPEMs=2)"
   ]
  },
  {
   "cell_type": "code",
   "execution_count": 3,
   "id": "aef2e09f-9150-42d6-9560-0af4329df424",
   "metadata": {},
   "outputs": [
    {
     "name": "stderr",
     "output_type": "stream",
     "text": [
      "/home/phungpx/anaconda3/envs/phungpx/lib/python3.8/site-packages/torch/nn/functional.py:3060: UserWarning: Default upsampling behavior when mode=bilinear is changed to align_corners=False since 0.4.0. Please specify align_corners=True if the old behavior is desired. See the documentation of nn.Upsample for details.\n",
      "  warnings.warn(\"Default upsampling behavior when mode={} is changed \"\n"
     ]
    }
   ],
   "source": [
    "dummy_x = torch.FloatTensor(2, 3, 640, 640)\n",
    "x = model(dummy_x)"
   ]
  },
  {
   "cell_type": "code",
   "execution_count": 4,
   "id": "0c970d07-093c-4b50-964d-66ee76fb1157",
   "metadata": {},
   "outputs": [
    {
     "data": {
      "text/plain": [
       "torch.Size([2, 6, 640, 640])"
      ]
     },
     "execution_count": 4,
     "metadata": {},
     "output_type": "execute_result"
    }
   ],
   "source": [
    "x.shape"
   ]
  },
  {
   "cell_type": "code",
   "execution_count": null,
   "id": "204c00cb-dabb-443e-a88b-eb5a1488bcf9",
   "metadata": {},
   "outputs": [],
   "source": []
  }
 ],
 "metadata": {
  "kernelspec": {
   "display_name": "Python 3 (ipykernel)",
   "language": "python",
   "name": "python3"
  },
  "language_info": {
   "codemirror_mode": {
    "name": "ipython",
    "version": 3
   },
   "file_extension": ".py",
   "mimetype": "text/x-python",
   "name": "python",
   "nbconvert_exporter": "python",
   "pygments_lexer": "ipython3",
   "version": "3.8.12"
  }
 },
 "nbformat": 4,
 "nbformat_minor": 5
}
